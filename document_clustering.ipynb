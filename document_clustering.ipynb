{
  "nbformat": 4,
  "nbformat_minor": 0,
  "metadata": {
    "colab": {
      "name": "document_clustering.ipynb",
      "provenance": [],
      "authorship_tag": "ABX9TyM1VpYzb6zF7F9w0fvP0POr"
    },
    "kernelspec": {
      "name": "python3",
      "display_name": "Python 3"
    }
  },
  "cells": [
    {
      "cell_type": "code",
      "metadata": {
        "id": "vqvPXAqYvEH1"
      },
      "source": [
        "import pandas as pd\n",
        "import numpy as np\n",
        "import matplotlib.pyplot as plt\n",
        "from sklearn.feature_extraction.text import TfidfVectorizer\n",
        "from nltk.tokenize import word_tokenize\n",
        "from nltk.corpus import stopwords\n",
        "from collections import Counter\n",
        "from collections import OrderedDict\n",
        "import string\n",
        "from nltk.tokenize import word_tokenize\n",
        "from nltk.corpus import stopwords\n",
        "from collections import Counter"
      ],
      "execution_count": 16,
      "outputs": []
    },
    {
      "cell_type": "code",
      "metadata": {
        "id": "ktMPJnbFvVFD"
      },
      "source": [
        "data = pd.read_excel('data.xlsx')"
      ],
      "execution_count": 17,
      "outputs": []
    },
    {
      "cell_type": "code",
      "metadata": {
        "id": "J37xFAnJvVQO",
        "outputId": "b655e57e-d7be-4229-a648-e62c3f9f9e92",
        "colab": {
          "base_uri": "https://localhost:8080/",
          "height": 589
        }
      },
      "source": [
        "similarity_nlp = data[['Author Full Names','Article Title','Abstract','WoS Categories']].dropna().reset_index(drop=True)\n",
        "similarity_nlp"
      ],
      "execution_count": 18,
      "outputs": [
        {
          "output_type": "execute_result",
          "data": {
            "text/html": [
              "<div>\n",
              "<style scoped>\n",
              "    .dataframe tbody tr th:only-of-type {\n",
              "        vertical-align: middle;\n",
              "    }\n",
              "\n",
              "    .dataframe tbody tr th {\n",
              "        vertical-align: top;\n",
              "    }\n",
              "\n",
              "    .dataframe thead th {\n",
              "        text-align: right;\n",
              "    }\n",
              "</style>\n",
              "<table border=\"1\" class=\"dataframe\">\n",
              "  <thead>\n",
              "    <tr style=\"text-align: right;\">\n",
              "      <th></th>\n",
              "      <th>Author Full Names</th>\n",
              "      <th>Article Title</th>\n",
              "      <th>Abstract</th>\n",
              "      <th>WoS Categories</th>\n",
              "    </tr>\n",
              "  </thead>\n",
              "  <tbody>\n",
              "    <tr>\n",
              "      <th>0</th>\n",
              "      <td>Bai, Harrison X.; Wang, Robin; Xiong, Zeng; Hs...</td>\n",
              "      <td>Artificial Intelligence Augmentation of Radiol...</td>\n",
              "      <td>Background: Coronavirus disease 2019 (COVID-19...</td>\n",
              "      <td>Radiology, Nuclear Medicine &amp; Medical Imaging</td>\n",
              "    </tr>\n",
              "    <tr>\n",
              "      <th>1</th>\n",
              "      <td>Cavallo, Joseph J.; Forman, Howard P.</td>\n",
              "      <td>The Economic Impact of the COVID-19 Pandemic o...</td>\n",
              "      <td>The coronavirus 2019 (COVID-19) pandemic will ...</td>\n",
              "      <td>Radiology, Nuclear Medicine &amp; Medical Imaging</td>\n",
              "    </tr>\n",
              "    <tr>\n",
              "      <th>2</th>\n",
              "      <td>Hossain, Rydhwana; Lazarus, Matthew S.; Rouden...</td>\n",
              "      <td>CT Scans Obtained for Nonpulmonary Indications...</td>\n",
              "      <td>Background: Atypical manifestations of coronav...</td>\n",
              "      <td>Radiology, Nuclear Medicine &amp; Medical Imaging</td>\n",
              "    </tr>\n",
              "    <tr>\n",
              "      <th>3</th>\n",
              "      <td>Kim, Hyungjin; Hong, Hyunsook; Yoon, Soon Ho</td>\n",
              "      <td>Diagnostic Performance of CT and Reverse Trans...</td>\n",
              "      <td>Background: Recent studies have suggested that...</td>\n",
              "      <td>Radiology, Nuclear Medicine &amp; Medical Imaging</td>\n",
              "    </tr>\n",
              "    <tr>\n",
              "      <th>4</th>\n",
              "      <td>Murphy, Keelin; Smits, Henk; Knoops, Arnoud J....</td>\n",
              "      <td>COVID-19 on Chest Radiographs: A Multireader E...</td>\n",
              "      <td>Background: Chest radiography may play an impo...</td>\n",
              "      <td>Radiology, Nuclear Medicine &amp; Medical Imaging</td>\n",
              "    </tr>\n",
              "    <tr>\n",
              "      <th>...</th>\n",
              "      <td>...</td>\n",
              "      <td>...</td>\n",
              "      <td>...</td>\n",
              "      <td>...</td>\n",
              "    </tr>\n",
              "    <tr>\n",
              "      <th>2595</th>\n",
              "      <td>Tian, Yehong; Qiu, Xiaowei; Wang, Chengxiang; ...</td>\n",
              "      <td>Cancer associates with risk and severe events ...</td>\n",
              "      <td>Evidence is mounting to indicate that cancer p...</td>\n",
              "      <td>Oncology</td>\n",
              "    </tr>\n",
              "    <tr>\n",
              "      <th>2596</th>\n",
              "      <td>Orlov, Marika; Wander, Pandora L.; Morrell, Er...</td>\n",
              "      <td>A Case for Targeting Th17 Cells and IL-17A in ...</td>\n",
              "      <td>SARS-CoV-2, the virus causing COVID-19, has in...</td>\n",
              "      <td>Immunology</td>\n",
              "    </tr>\n",
              "    <tr>\n",
              "      <th>2597</th>\n",
              "      <td>Alsoussi, Wafaa B.; Turner, Jackson S.; Case, ...</td>\n",
              "      <td>A Potently Neutralizing Antibody Protects Mice...</td>\n",
              "      <td>Severe acute respiratory syndrome coronavirus ...</td>\n",
              "      <td>Immunology</td>\n",
              "    </tr>\n",
              "    <tr>\n",
              "      <th>2598</th>\n",
              "      <td>Ballester, Maria; Van Hoozen, Brian; Sikora, A...</td>\n",
              "      <td>Stay calm and focus on the learning outcomes: ...</td>\n",
              "      <td>Course specific learning outcomes are an impor...</td>\n",
              "      <td>Biochemistry &amp; Molecular Biology; Education, S...</td>\n",
              "    </tr>\n",
              "    <tr>\n",
              "      <th>2599</th>\n",
              "      <td>Bryson, John R.; Andres, Lauren</td>\n",
              "      <td>Covid-19 and rapid adoption and improvisation ...</td>\n",
              "      <td>The COVID-19 pandemic closed university campus...</td>\n",
              "      <td>Education &amp; Educational Research; Geography</td>\n",
              "    </tr>\n",
              "  </tbody>\n",
              "</table>\n",
              "<p>2600 rows × 4 columns</p>\n",
              "</div>"
            ],
            "text/plain": [
              "                                      Author Full Names  ...                                     WoS Categories\n",
              "0     Bai, Harrison X.; Wang, Robin; Xiong, Zeng; Hs...  ...      Radiology, Nuclear Medicine & Medical Imaging\n",
              "1                 Cavallo, Joseph J.; Forman, Howard P.  ...      Radiology, Nuclear Medicine & Medical Imaging\n",
              "2     Hossain, Rydhwana; Lazarus, Matthew S.; Rouden...  ...      Radiology, Nuclear Medicine & Medical Imaging\n",
              "3          Kim, Hyungjin; Hong, Hyunsook; Yoon, Soon Ho  ...      Radiology, Nuclear Medicine & Medical Imaging\n",
              "4     Murphy, Keelin; Smits, Henk; Knoops, Arnoud J....  ...      Radiology, Nuclear Medicine & Medical Imaging\n",
              "...                                                 ...  ...                                                ...\n",
              "2595  Tian, Yehong; Qiu, Xiaowei; Wang, Chengxiang; ...  ...                                           Oncology\n",
              "2596  Orlov, Marika; Wander, Pandora L.; Morrell, Er...  ...                                         Immunology\n",
              "2597  Alsoussi, Wafaa B.; Turner, Jackson S.; Case, ...  ...                                         Immunology\n",
              "2598  Ballester, Maria; Van Hoozen, Brian; Sikora, A...  ...  Biochemistry & Molecular Biology; Education, S...\n",
              "2599                    Bryson, John R.; Andres, Lauren  ...        Education & Educational Research; Geography\n",
              "\n",
              "[2600 rows x 4 columns]"
            ]
          },
          "metadata": {
            "tags": []
          },
          "execution_count": 18
        }
      ]
    },
    {
      "cell_type": "code",
      "metadata": {
        "id": "De-DmrUPvVXI"
      },
      "source": [
        "def get_full_keywords(data_selected):\n",
        "    data_selected['tok_title'] = [word_tokenize(title) for title in data_selected['Article Title']]\n",
        "    data_selected['tok_abstract'] = [word_tokenize(title) for title in data_selected['Abstract']]\n",
        "    stop_words=set(stopwords.words(\"english\")+list(string.punctuation)+list(string.digits))\n",
        "    data_selected['text']=data_selected['tok_title']+data_selected['tok_abstract']\n",
        "    \n",
        "    filtered_texts=[]\n",
        "    for t in data_selected['text']:\n",
        "        filtered_text=[]\n",
        "        for word in t:\n",
        "            if word.lower() not in stop_words:\n",
        "                filtered_text.append(word)\n",
        "        filtered_texts.append(filtered_text)\n",
        "\n",
        "    keywords_text = [[item.lower() for item in sublist]for sublist in filtered_texts]\n",
        "    data_selected['keywords_text']=keywords_text\n",
        "    data_selected['tok_text'] = [' '.join(tt for tt in ss) for ss in keywords_text] \n",
        "    data_full_test = data_selected.drop(columns=['Abstract', 'tok_title','tok_abstract','text'])\n",
        "    return data_full_test"
      ],
      "execution_count": 19,
      "outputs": []
    },
    {
      "cell_type": "code",
      "metadata": {
        "id": "TCQ_0lYgvVb-"
      },
      "source": [
        "def keywords_ti_ab_sorted_desc(dataset):\n",
        "    vocab = Counter([j for i in get_full_keywords(dataset)['keywords_text'] for j in i])\n",
        "    sorted_dict = OrderedDict(sorted(vocab.items(), key = lambda kv : kv[1], reverse=True))\n",
        "    kw_li = []\n",
        "    for e in sorted_dict: \n",
        "        kw_li.append(e)\n",
        "    return kw_li"
      ],
      "execution_count": 20,
      "outputs": []
    },
    {
      "cell_type": "code",
      "metadata": {
        "id": "E0ozhBwHvVgo"
      },
      "source": [
        "def tfidf(dataset):\n",
        "    vocab = keywords_ti_ab_sorted_desc(similarity_nlp)[:2000] #!!!!!!!!!!!\n",
        "    vect = TfidfVectorizer(analyzer='word', ngram_range=(1,2),vocabulary=vocab)                                                                                                                                                                                                   \n",
        "    tfidf = vect.fit_transform(dataset['tok_text'])                                                                                                                                                                                                                       \n",
        "    columns = [k for (v, k) in sorted((v, k) for k, v in vect.vocabulary_.items())]\n",
        "    tfidfs = pd.DataFrame(tfidf.todense(), columns=columns)\n",
        "    \n",
        "    return tfidfs"
      ],
      "execution_count": 13,
      "outputs": []
    },
    {
      "cell_type": "code",
      "metadata": {
        "id": "481zj4rKvVm-"
      },
      "source": [
        "bow_freq_df=tfidf(get_full_keywords(similarity_nlp))"
      ],
      "execution_count": 21,
      "outputs": []
    },
    {
      "cell_type": "code",
      "metadata": {
        "id": "NVzg6yRmvroY",
        "outputId": "7669d829-7d03-414e-bc39-443228322f5e",
        "colab": {
          "base_uri": "https://localhost:8080/",
          "height": 447
        }
      },
      "source": [
        "import scipy.cluster.hierarchy as shc\n",
        "plt.figure(figsize=(10,7))  \n",
        "plt.title('Dendrograms')  \n",
        "dend = shc.dendrogram(shc.linkage(bow_freq_df, method='ward'))"
      ],
      "execution_count": 22,
      "outputs": [
        {
          "output_type": "display_data",
          "data": {
            "image/png": "[encoded data removed]",
            "text/plain": [
              "<Figure size 720x504 with 1 Axes>"
            ]
          },
          "metadata": {
            "tags": [],
            "needs_background": "light"
          }
        }
      ]
    },
    {
      "cell_type": "code",
      "metadata": {
        "id": "zeX2gekHvrrS",
        "outputId": "b4a46f4e-e87e-4505-dffa-a07139310c00",
        "colab": {
          "base_uri": "https://localhost:8080/"
        }
      },
      "source": [
        "from sklearn.cluster import AgglomerativeClustering\n",
        "\n",
        "cluster = AgglomerativeClustering(n_clusters=800, affinity='euclidean', linkage='ward')\n",
        "cluster_cat = cluster.fit_predict(bow_freq_df)\n",
        "cluster_cat"
      ],
      "execution_count": 23,
      "outputs": [
        {
          "output_type": "execute_result",
          "data": {
            "text/plain": [
              "array([459, 362, 427, ...,  82, 757, 652])"
            ]
          },
          "metadata": {
            "tags": []
          },
          "execution_count": 23
        }
      ]
    },
    {
      "cell_type": "code",
      "metadata": {
        "id": "wHMr3pWOvr0C"
      },
      "source": [
        "data_with_cluster = get_full_keywords(similarity_nlp).join(pd.DataFrame(cluster_cat, columns=['cluster']))\n"
      ],
      "execution_count": 26,
      "outputs": []
    },
    {
      "cell_type": "code",
      "metadata": {
        "id": "Vn94hNwvvrxw"
      },
      "source": [
        "top10ppr = data[['Article Title', 'Times Cited, WoS Core','WoS Categories']].dropna().copy().sort_values('Times Cited, WoS Core', ascending=False).head(100)['Article Title']\n",
        "top_cauthor_top_n_cluster = data_with_cluster.loc[data_with_cluster['Article Title'].isin(top10ppr)].reset_index(drop=True)     \n"
      ],
      "execution_count": 27,
      "outputs": []
    },
    {
      "cell_type": "code",
      "metadata": {
        "id": "Es_0ARvOvrwL"
      },
      "source": [
        "def unique_cluster_list(dataset):\n",
        "    unique_cluster=[]\n",
        "    for i in range(len(dataset['cluster'])):\n",
        "        for j in range(i+1,len(dataset['cluster'])):\n",
        "            if dataset['cluster'][i]==dataset['cluster'][j]:\n",
        "                unique_cluster.append(dataset['cluster'][i])\n",
        "    return list(set(unique_cluster))           \n",
        "            "
      ],
      "execution_count": 28,
      "outputs": []
    },
    {
      "cell_type": "code",
      "metadata": {
        "id": "czskGpEmvruo"
      },
      "source": [
        "unique_cluster_list=unique_cluster_list(top_cauthor_top_n_cluster)"
      ],
      "execution_count": 29,
      "outputs": []
    },
    {
      "cell_type": "code",
      "metadata": {
        "id": "Y5giQcZOv6-n",
        "outputId": "284de7a3-72b0-456e-dfb6-8b258599929f",
        "colab": {
          "base_uri": "https://localhost:8080/",
          "height": 1000
        }
      },
      "source": [
        "subset_clusters = top_cauthor_top_n_cluster.loc[top_cauthor_top_n_cluster['cluster'].isin(unique_cluster_list)].sort_values('cluster').drop(\n",
        "    columns=['keywords_text', 'tok_text']).reset_index(drop=True)\n",
        "subset_clusters"
      ],
      "execution_count": 30,
      "outputs": [
        {
          "output_type": "execute_result",
          "data": {
            "text/html": [
              "<div>\n",
              "<style scoped>\n",
              "    .dataframe tbody tr th:only-of-type {\n",
              "        vertical-align: middle;\n",
              "    }\n",
              "\n",
              "    .dataframe tbody tr th {\n",
              "        vertical-align: top;\n",
              "    }\n",
              "\n",
              "    .dataframe thead th {\n",
              "        text-align: right;\n",
              "    }\n",
              "</style>\n",
              "<table border=\"1\" class=\"dataframe\">\n",
              "  <thead>\n",
              "    <tr style=\"text-align: right;\">\n",
              "      <th></th>\n",
              "      <th>Author Full Names</th>\n",
              "      <th>Article Title</th>\n",
              "      <th>WoS Categories</th>\n",
              "      <th>cluster</th>\n",
              "    </tr>\n",
              "  </thead>\n",
              "  <tbody>\n",
              "    <tr>\n",
              "      <th>0</th>\n",
              "      <td>Lei, Fang; Liu, Ye-Mao; Zhou, Feng; Qin, Juan-...</td>\n",
              "      <td>Longitudinal Association Between Markers of Li...</td>\n",
              "      <td>Gastroenterology &amp; Hepatology</td>\n",
              "      <td>1</td>\n",
              "    </tr>\n",
              "    <tr>\n",
              "      <th>1</th>\n",
              "      <td>Cai, Qingxian; Huang, Deliang; Yu, Hong; Zhu, ...</td>\n",
              "      <td>COVID-19: Abnormal liver function tests</td>\n",
              "      <td>Gastroenterology &amp; Hepatology</td>\n",
              "      <td>1</td>\n",
              "    </tr>\n",
              "    <tr>\n",
              "      <th>2</th>\n",
              "      <td>Sun, Jing; Zhuang, Zhen; Zheng, Jian; Li, Kun;...</td>\n",
              "      <td>Generation of a Broadly Useful Model for COVID...</td>\n",
              "      <td>Biochemistry &amp; Molecular Biology; Cell Biology</td>\n",
              "      <td>82</td>\n",
              "    </tr>\n",
              "    <tr>\n",
              "      <th>3</th>\n",
              "      <td>Hassan, Ahmed O.; Case, James Brett; Winkler, ...</td>\n",
              "      <td>A SARS-CoV-2 Infection Model in Mice Demonstra...</td>\n",
              "      <td>Biochemistry &amp; Molecular Biology; Cell Biology</td>\n",
              "      <td>82</td>\n",
              "    </tr>\n",
              "    <tr>\n",
              "      <th>4</th>\n",
              "      <td>Wec, Anna Z.; Wrapp, Daniel; Herbert, Andrew S...</td>\n",
              "      <td>Broad neutralization of SARS-related viruses b...</td>\n",
              "      <td>Multidisciplinary Sciences</td>\n",
              "      <td>98</td>\n",
              "    </tr>\n",
              "    <tr>\n",
              "      <th>5</th>\n",
              "      <td>Brouwer, Philip J. M.; Caniels, Tom G.; van de...</td>\n",
              "      <td>Potent neutralizing antibodies from COVID-19 p...</td>\n",
              "      <td>Multidisciplinary Sciences</td>\n",
              "      <td>98</td>\n",
              "    </tr>\n",
              "    <tr>\n",
              "      <th>6</th>\n",
              "      <td>Bao, Rui; Zhang, Acheng</td>\n",
              "      <td>Does lockdown reduce air pollution? Evidence f...</td>\n",
              "      <td>Environmental Sciences</td>\n",
              "      <td>185</td>\n",
              "    </tr>\n",
              "    <tr>\n",
              "      <th>7</th>\n",
              "      <td>Coccia, Mario</td>\n",
              "      <td>Factors determining the diffusion of COVID-19 ...</td>\n",
              "      <td>Environmental Sciences</td>\n",
              "      <td>185</td>\n",
              "    </tr>\n",
              "    <tr>\n",
              "      <th>8</th>\n",
              "      <td>Randazzo, Walter; Truchado, Pilar; Cuevas-Ferr...</td>\n",
              "      <td>SARS-CoV-2 RNA in wastewater anticipated COVID...</td>\n",
              "      <td>Engineering, Environmental; Environmental Scie...</td>\n",
              "      <td>295</td>\n",
              "    </tr>\n",
              "    <tr>\n",
              "      <th>9</th>\n",
              "      <td>Kitajima, Masaaki; Ahmed, Warish; Bibby, Kyle;...</td>\n",
              "      <td>SARS-CoV-2 in wastewater: State of the knowled...</td>\n",
              "      <td>Environmental Sciences</td>\n",
              "      <td>295</td>\n",
              "    </tr>\n",
              "    <tr>\n",
              "      <th>10</th>\n",
              "      <td>Sicard, Pierre; De Marco, Alessandra; Agathokl...</td>\n",
              "      <td>Ampli fied ozone pollution in cities during th...</td>\n",
              "      <td>Environmental Sciences</td>\n",
              "      <td>334</td>\n",
              "    </tr>\n",
              "    <tr>\n",
              "      <th>11</th>\n",
              "      <td>Kerimray, Aiymgul; Baimatova, Nassiba; Ibragim...</td>\n",
              "      <td>Assessing air quality changes in large cities ...</td>\n",
              "      <td>Environmental Sciences</td>\n",
              "      <td>334</td>\n",
              "    </tr>\n",
              "    <tr>\n",
              "      <th>12</th>\n",
              "      <td>Bloem, Bastiaan R.; Dorsey, E. Ray; Okun, Mich...</td>\n",
              "      <td>The Coronavirus Disease 2019 Crisis as Catalys...</td>\n",
              "      <td>Clinical Neurology</td>\n",
              "      <td>336</td>\n",
              "    </tr>\n",
              "    <tr>\n",
              "      <th>13</th>\n",
              "      <td>Leite, Higor; Hodgkinson, Ian R.; Gruber, Thor...</td>\n",
              "      <td>New development: 'Healing at a distance'-telem...</td>\n",
              "      <td>Public Administration</td>\n",
              "      <td>336</td>\n",
              "    </tr>\n",
              "    <tr>\n",
              "      <th>14</th>\n",
              "      <td>Folegatti, Pedro M.; Ewer, Katie J.; Aley, Par...</td>\n",
              "      <td>Safety and immunogenicity of the ChAdOx1 nCoV-...</td>\n",
              "      <td>Medicine, General &amp; Internal</td>\n",
              "      <td>422</td>\n",
              "    </tr>\n",
              "    <tr>\n",
              "      <th>15</th>\n",
              "      <td>Zhu, Feng-Cai; Guan, Xu-Hua; Li, Yu-Hua; Huang...</td>\n",
              "      <td>Immunogenicity and safety of a recombinant ade...</td>\n",
              "      <td>Medicine, General &amp; Internal</td>\n",
              "      <td>422</td>\n",
              "    </tr>\n",
              "    <tr>\n",
              "      <th>16</th>\n",
              "      <td>Kondo Nakada, Liane Yuri; Urban, Rodrigo Custodio</td>\n",
              "      <td>COVID-19 pandemic: Impacts on the air quality ...</td>\n",
              "      <td>Environmental Sciences</td>\n",
              "      <td>468</td>\n",
              "    </tr>\n",
              "    <tr>\n",
              "      <th>17</th>\n",
              "      <td>Dantas, Guilherme; Siciliano, Bruno; Franca, B...</td>\n",
              "      <td>The impact of COVID-19 partial lockdown on the...</td>\n",
              "      <td>Environmental Sciences</td>\n",
              "      <td>468</td>\n",
              "    </tr>\n",
              "    <tr>\n",
              "      <th>18</th>\n",
              "      <td>Natoli, S.; Oliveira, V; Calabresi, P.; Maia, ...</td>\n",
              "      <td>Does SARS-Cov-2 invade the brain? Translationa...</td>\n",
              "      <td>Clinical Neurology; Neurosciences</td>\n",
              "      <td>586</td>\n",
              "    </tr>\n",
              "    <tr>\n",
              "      <th>19</th>\n",
              "      <td>Al Saiegh, Fadi; Ghosh, Ritam; Leibold, Adam; ...</td>\n",
              "      <td>Status of SARS-CoV-2 in cerebrospinal fluid of...</td>\n",
              "      <td>Clinical Neurology; Psychiatry; Surgery</td>\n",
              "      <td>586</td>\n",
              "    </tr>\n",
              "    <tr>\n",
              "      <th>20</th>\n",
              "      <td>Zubair, Adeel S.; McAlpine, Lindsay S.; Gardin...</td>\n",
              "      <td>Neuropathogenesis and Neurologic Manifestation...</td>\n",
              "      <td>Clinical Neurology</td>\n",
              "      <td>586</td>\n",
              "    </tr>\n",
              "  </tbody>\n",
              "</table>\n",
              "</div>"
            ],
            "text/plain": [
              "                                    Author Full Names  ... cluster\n",
              "0   Lei, Fang; Liu, Ye-Mao; Zhou, Feng; Qin, Juan-...  ...       1\n",
              "1   Cai, Qingxian; Huang, Deliang; Yu, Hong; Zhu, ...  ...       1\n",
              "2   Sun, Jing; Zhuang, Zhen; Zheng, Jian; Li, Kun;...  ...      82\n",
              "3   Hassan, Ahmed O.; Case, James Brett; Winkler, ...  ...      82\n",
              "4   Wec, Anna Z.; Wrapp, Daniel; Herbert, Andrew S...  ...      98\n",
              "5   Brouwer, Philip J. M.; Caniels, Tom G.; van de...  ...      98\n",
              "6                             Bao, Rui; Zhang, Acheng  ...     185\n",
              "7                                       Coccia, Mario  ...     185\n",
              "8   Randazzo, Walter; Truchado, Pilar; Cuevas-Ferr...  ...     295\n",
              "9   Kitajima, Masaaki; Ahmed, Warish; Bibby, Kyle;...  ...     295\n",
              "10  Sicard, Pierre; De Marco, Alessandra; Agathokl...  ...     334\n",
              "11  Kerimray, Aiymgul; Baimatova, Nassiba; Ibragim...  ...     334\n",
              "12  Bloem, Bastiaan R.; Dorsey, E. Ray; Okun, Mich...  ...     336\n",
              "13  Leite, Higor; Hodgkinson, Ian R.; Gruber, Thor...  ...     336\n",
              "14  Folegatti, Pedro M.; Ewer, Katie J.; Aley, Par...  ...     422\n",
              "15  Zhu, Feng-Cai; Guan, Xu-Hua; Li, Yu-Hua; Huang...  ...     422\n",
              "16  Kondo Nakada, Liane Yuri; Urban, Rodrigo Custodio  ...     468\n",
              "17  Dantas, Guilherme; Siciliano, Bruno; Franca, B...  ...     468\n",
              "18  Natoli, S.; Oliveira, V; Calabresi, P.; Maia, ...  ...     586\n",
              "19  Al Saiegh, Fadi; Ghosh, Ritam; Leibold, Adam; ...  ...     586\n",
              "20  Zubair, Adeel S.; McAlpine, Lindsay S.; Gardin...  ...     586\n",
              "\n",
              "[21 rows x 4 columns]"
            ]
          },
          "metadata": {
            "tags": []
          },
          "execution_count": 30
        }
      ]
    }
  ]
}